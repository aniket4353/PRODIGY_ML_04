{
  "nbformat": 4,
  "nbformat_minor": 0,
  "metadata": {
    "colab": {
      "provenance": [],
      "gpuType": "T4"
    },
    "kernelspec": {
      "name": "python3",
      "display_name": "Python 3"
    },
    "language_info": {
      "name": "python"
    },
    "accelerator": "GPU"
  },
  "cells": [
    {
      "cell_type": "code",
      "execution_count": null,
      "metadata": {
        "colab": {
          "base_uri": "https://localhost:8080/"
        },
        "id": "WOb61SP88EmL",
        "outputId": "ab8a7579-efe0-45b8-cf34-fec176cc456f",
        "collapsed": true
      },
      "outputs": [
        {
          "output_type": "stream",
          "name": "stdout",
          "text": [
            "Warning: Your Kaggle API key is readable by other users on this system! To fix this, you can run 'chmod 600 /root/.kaggle/kaggle.json'\n",
            "Dataset URL: https://www.kaggle.com/datasets/gti-upm/leapgestrecog\n",
            "License(s): CC-BY-NC-SA-4.0\n",
            "leapgestrecog.zip: Skipping, found more recently modified local copy (use --force to force download)\n"
          ]
        }
      ],
      "source": [
        "!mkdir -p ~/.kaggle\n",
        "!cp kaggle.json ~/.kaggle/\n",
        "\n",
        "\n",
        "!kaggle datasets download -d gti-upm/leapgestrecog\n",
        "\n",
        "\n"
      ]
    },
    {
      "cell_type": "code",
      "source": [
        "import zipfile\n",
        "zip_ref = zipfile.ZipFile('/content/leapgestrecog.zip', 'r')\n",
        "zip_ref.extractall('/content')\n",
        "zip_ref.close()"
      ],
      "metadata": {
        "id": "Dr6lyUOD8cW_"
      },
      "execution_count": null,
      "outputs": []
    },
    {
      "cell_type": "code",
      "source": [
        "!pip install mediapipe\n",
        "import numpy as np\n",
        "import tensorflow as tf\n",
        "from tensorflow.keras import layers, models\n",
        "from sklearn.model_selection import train_test_split\n",
        "import cv2\n",
        "import os\n",
        "import mediapipe as mp\n",
        "from keras.models import load_model"
      ],
      "metadata": {
        "id": "vFQpLgPN8oyF",
        "colab": {
          "base_uri": "https://localhost:8080/"
        },
        "outputId": "c4988fa4-1f36-4da8-87ce-787bb886e121",
        "collapsed": true
      },
      "execution_count": null,
      "outputs": [
        {
          "output_type": "stream",
          "name": "stdout",
          "text": [
            "Requirement already satisfied: mediapipe in /usr/local/lib/python3.10/dist-packages (0.10.14)\n",
            "Requirement already satisfied: absl-py in /usr/local/lib/python3.10/dist-packages (from mediapipe) (1.4.0)\n",
            "Requirement already satisfied: attrs>=19.1.0 in /usr/local/lib/python3.10/dist-packages (from mediapipe) (23.2.0)\n",
            "Requirement already satisfied: flatbuffers>=2.0 in /usr/local/lib/python3.10/dist-packages (from mediapipe) (24.3.25)\n",
            "Requirement already satisfied: jax in /usr/local/lib/python3.10/dist-packages (from mediapipe) (0.4.26)\n",
            "Requirement already satisfied: jaxlib in /usr/local/lib/python3.10/dist-packages (from mediapipe) (0.4.26+cuda12.cudnn89)\n",
            "Requirement already satisfied: matplotlib in /usr/local/lib/python3.10/dist-packages (from mediapipe) (3.7.1)\n",
            "Requirement already satisfied: numpy in /usr/local/lib/python3.10/dist-packages (from mediapipe) (1.25.2)\n",
            "Requirement already satisfied: opencv-contrib-python in /usr/local/lib/python3.10/dist-packages (from mediapipe) (4.8.0.76)\n",
            "Requirement already satisfied: protobuf<5,>=4.25.3 in /usr/local/lib/python3.10/dist-packages (from mediapipe) (4.25.3)\n",
            "Requirement already satisfied: sounddevice>=0.4.4 in /usr/local/lib/python3.10/dist-packages (from mediapipe) (0.4.7)\n",
            "Requirement already satisfied: CFFI>=1.0 in /usr/local/lib/python3.10/dist-packages (from sounddevice>=0.4.4->mediapipe) (1.16.0)\n",
            "Requirement already satisfied: ml-dtypes>=0.2.0 in /usr/local/lib/python3.10/dist-packages (from jax->mediapipe) (0.2.0)\n",
            "Requirement already satisfied: opt-einsum in /usr/local/lib/python3.10/dist-packages (from jax->mediapipe) (3.3.0)\n",
            "Requirement already satisfied: scipy>=1.9 in /usr/local/lib/python3.10/dist-packages (from jax->mediapipe) (1.11.4)\n",
            "Requirement already satisfied: contourpy>=1.0.1 in /usr/local/lib/python3.10/dist-packages (from matplotlib->mediapipe) (1.2.1)\n",
            "Requirement already satisfied: cycler>=0.10 in /usr/local/lib/python3.10/dist-packages (from matplotlib->mediapipe) (0.12.1)\n",
            "Requirement already satisfied: fonttools>=4.22.0 in /usr/local/lib/python3.10/dist-packages (from matplotlib->mediapipe) (4.53.0)\n",
            "Requirement already satisfied: kiwisolver>=1.0.1 in /usr/local/lib/python3.10/dist-packages (from matplotlib->mediapipe) (1.4.5)\n",
            "Requirement already satisfied: packaging>=20.0 in /usr/local/lib/python3.10/dist-packages (from matplotlib->mediapipe) (24.1)\n",
            "Requirement already satisfied: pillow>=6.2.0 in /usr/local/lib/python3.10/dist-packages (from matplotlib->mediapipe) (9.4.0)\n",
            "Requirement already satisfied: pyparsing>=2.3.1 in /usr/local/lib/python3.10/dist-packages (from matplotlib->mediapipe) (3.1.2)\n",
            "Requirement already satisfied: python-dateutil>=2.7 in /usr/local/lib/python3.10/dist-packages (from matplotlib->mediapipe) (2.8.2)\n",
            "Requirement already satisfied: pycparser in /usr/local/lib/python3.10/dist-packages (from CFFI>=1.0->sounddevice>=0.4.4->mediapipe) (2.22)\n",
            "Requirement already satisfied: six>=1.5 in /usr/local/lib/python3.10/dist-packages (from python-dateutil>=2.7->matplotlib->mediapipe) (1.16.0)\n"
          ]
        }
      ]
    },
    {
      "cell_type": "code",
      "source": [
        "def load_data(dataset_path):\n",
        "    X = []\n",
        "    y = []\n",
        "    gesture_folders = sorted(os.listdir(dataset_path))\n",
        "    gesture_map = {gesture: idx for idx, gesture in enumerate(gesture_folders)}\n",
        "\n",
        "    for gesture_folder in gesture_folders:\n",
        "        gesture_images_path = os.path.join(dataset_path, gesture_folder)\n",
        "        for subject_folder in os.listdir(gesture_images_path):\n",
        "            subject_images_path = os.path.join(gesture_images_path, subject_folder)\n",
        "            for image_name in os.listdir(subject_images_path):\n",
        "                image_path = os.path.join(subject_images_path, image_name)\n",
        "                image = cv2.imread(image_path)\n",
        "                if image is not None:\n",
        "                    image = cv2.resize(image, (64, 64))\n",
        "                    X.append(image)\n",
        "                    y.append(gesture_map[gesture_folder])\n",
        "                else:\n",
        "                    print(f\"Failed to load image: {image_path}\")\n",
        "\n",
        "    X = np.array(X)\n",
        "    y = np.array(y)\n",
        "    return X, y, gesture_map\n"
      ],
      "metadata": {
        "id": "F4B5zUXW-P1k"
      },
      "execution_count": null,
      "outputs": []
    },
    {
      "cell_type": "code",
      "source": [
        "# Load data from all folders\n",
        "dataset_path = '/content/leapGestRecog'  # Replace with your dataset path\n",
        "X, y, gesture_map = load_data(dataset_path)"
      ],
      "metadata": {
        "id": "U3117tEI-xFy"
      },
      "execution_count": null,
      "outputs": []
    },
    {
      "cell_type": "code",
      "source": [
        "# Normalize the images\n",
        "X = X / 255.0"
      ],
      "metadata": {
        "id": "YG1JW9Nn-_TI"
      },
      "execution_count": null,
      "outputs": []
    },
    {
      "cell_type": "code",
      "source": [
        "# Split the dataset into training and testing sets\n",
        "X_train, X_test, y_train, y_test = train_test_split(X, y, test_size=0.2, random_state=42)\n"
      ],
      "metadata": {
        "id": "n6E5lToc_1nb"
      },
      "execution_count": null,
      "outputs": []
    },
    {
      "cell_type": "code",
      "source": [
        "# Define the CNN architecture\n",
        "model = models.Sequential([\n",
        "    layers.Conv2D(32, (3, 3), activation='relu', input_shape=(64, 64, 3)),\n",
        "    layers.MaxPooling2D((2, 2)),\n",
        "    layers.Conv2D(64, (3, 3), activation='relu'),\n",
        "    layers.MaxPooling2D((2, 2)),\n",
        "    layers.Conv2D(128, (3, 3), activation='relu'),\n",
        "    layers.MaxPooling2D((2, 2)),\n",
        "    layers.Flatten(),\n",
        "    layers.Dense(128, activation='relu'),\n",
        "    layers.Dense(len(gesture_map), activation='softmax')\n",
        "])"
      ],
      "metadata": {
        "id": "T_kS7p3X_3xJ"
      },
      "execution_count": null,
      "outputs": []
    },
    {
      "cell_type": "code",
      "source": [
        "# Compile the model\n",
        "model.compile(optimizer='adam',\n",
        "              loss='sparse_categorical_crossentropy',\n",
        "              metrics=['accuracy'])\n"
      ],
      "metadata": {
        "id": "FyM6uYLo_7-I"
      },
      "execution_count": null,
      "outputs": []
    },
    {
      "cell_type": "code",
      "source": [
        "# Train the model\n",
        "model.fit(X_train, y_train, epochs=30, batch_size=32,\n",
        "          validation_data=(X_test, y_test))\n"
      ],
      "metadata": {
        "colab": {
          "base_uri": "https://localhost:8080/"
        },
        "id": "w2bCn-hi_-cN",
        "outputId": "ad24f7f3-d734-44ba-d82e-f550e27ece95",
        "collapsed": true
      },
      "execution_count": null,
      "outputs": [
        {
          "output_type": "stream",
          "name": "stdout",
          "text": [
            "Epoch 1/30\n",
            "500/500 [==============================] - 4s 7ms/step - loss: 0.0230 - accuracy: 0.9893 - val_loss: 0.0162 - val_accuracy: 0.9900\n",
            "Epoch 2/30\n",
            "500/500 [==============================] - 3s 7ms/step - loss: 0.0126 - accuracy: 0.9921 - val_loss: 0.0117 - val_accuracy: 0.9918\n",
            "Epoch 3/30\n",
            "500/500 [==============================] - 3s 6ms/step - loss: 0.0108 - accuracy: 0.9929 - val_loss: 0.0120 - val_accuracy: 0.9923\n",
            "Epoch 4/30\n",
            "500/500 [==============================] - 3s 6ms/step - loss: 0.0110 - accuracy: 0.9929 - val_loss: 0.0115 - val_accuracy: 0.9923\n",
            "Epoch 5/30\n",
            "500/500 [==============================] - 3s 6ms/step - loss: 0.0111 - accuracy: 0.9918 - val_loss: 0.0120 - val_accuracy: 0.9918\n",
            "Epoch 6/30\n",
            "500/500 [==============================] - 3s 7ms/step - loss: 0.0108 - accuracy: 0.9926 - val_loss: 0.0113 - val_accuracy: 0.9915\n",
            "Epoch 7/30\n",
            "500/500 [==============================] - 3s 7ms/step - loss: 0.0108 - accuracy: 0.9927 - val_loss: 0.0130 - val_accuracy: 0.9923\n",
            "Epoch 8/30\n",
            "500/500 [==============================] - 3s 6ms/step - loss: 0.0119 - accuracy: 0.9925 - val_loss: 0.0118 - val_accuracy: 0.9925\n",
            "Epoch 9/30\n",
            "500/500 [==============================] - 3s 6ms/step - loss: 0.0110 - accuracy: 0.9926 - val_loss: 0.0110 - val_accuracy: 0.9920\n",
            "Epoch 10/30\n",
            "500/500 [==============================] - 5s 10ms/step - loss: 0.0110 - accuracy: 0.9930 - val_loss: 0.0124 - val_accuracy: 0.9923\n",
            "Epoch 11/30\n",
            "500/500 [==============================] - 4s 8ms/step - loss: 0.0109 - accuracy: 0.9921 - val_loss: 0.0110 - val_accuracy: 0.9925\n",
            "Epoch 12/30\n",
            "500/500 [==============================] - 3s 6ms/step - loss: 0.0108 - accuracy: 0.9929 - val_loss: 0.0111 - val_accuracy: 0.9918\n",
            "Epoch 13/30\n",
            "500/500 [==============================] - 3s 6ms/step - loss: 0.0112 - accuracy: 0.9924 - val_loss: 0.0113 - val_accuracy: 0.9925\n",
            "Epoch 14/30\n",
            "500/500 [==============================] - 4s 7ms/step - loss: 0.0190 - accuracy: 0.9912 - val_loss: 0.0115 - val_accuracy: 0.9923\n",
            "Epoch 15/30\n",
            "500/500 [==============================] - 3s 6ms/step - loss: 0.0106 - accuracy: 0.9933 - val_loss: 0.0115 - val_accuracy: 0.9923\n",
            "Epoch 16/30\n",
            "500/500 [==============================] - 3s 6ms/step - loss: 0.0106 - accuracy: 0.9926 - val_loss: 0.0114 - val_accuracy: 0.9918\n",
            "Epoch 17/30\n",
            "500/500 [==============================] - 4s 7ms/step - loss: 0.0107 - accuracy: 0.9922 - val_loss: 0.0113 - val_accuracy: 0.9925\n",
            "Epoch 18/30\n",
            "500/500 [==============================] - 3s 7ms/step - loss: 0.0106 - accuracy: 0.9927 - val_loss: 0.0113 - val_accuracy: 0.9918\n",
            "Epoch 19/30\n",
            "500/500 [==============================] - 3s 6ms/step - loss: 0.0106 - accuracy: 0.9935 - val_loss: 0.0112 - val_accuracy: 0.9923\n",
            "Epoch 20/30\n",
            "500/500 [==============================] - 3s 6ms/step - loss: 0.0134 - accuracy: 0.9926 - val_loss: 0.0115 - val_accuracy: 0.9923\n",
            "Epoch 21/30\n",
            "500/500 [==============================] - 4s 7ms/step - loss: 0.0105 - accuracy: 0.9928 - val_loss: 0.0117 - val_accuracy: 0.9925\n",
            "Epoch 22/30\n",
            "500/500 [==============================] - 3s 6ms/step - loss: 0.0104 - accuracy: 0.9919 - val_loss: 0.0111 - val_accuracy: 0.9925\n",
            "Epoch 23/30\n",
            "500/500 [==============================] - 3s 6ms/step - loss: 0.0105 - accuracy: 0.9936 - val_loss: 0.0120 - val_accuracy: 0.9918\n",
            "Epoch 24/30\n",
            "500/500 [==============================] - 3s 6ms/step - loss: 0.0109 - accuracy: 0.9919 - val_loss: 0.0112 - val_accuracy: 0.9915\n",
            "Epoch 25/30\n",
            "500/500 [==============================] - 4s 7ms/step - loss: 0.0105 - accuracy: 0.9926 - val_loss: 0.0114 - val_accuracy: 0.9925\n",
            "Epoch 26/30\n",
            "500/500 [==============================] - 3s 6ms/step - loss: 0.0108 - accuracy: 0.9926 - val_loss: 0.0121 - val_accuracy: 0.9923\n",
            "Epoch 27/30\n",
            "500/500 [==============================] - 4s 7ms/step - loss: 0.0108 - accuracy: 0.9923 - val_loss: 0.0134 - val_accuracy: 0.9918\n",
            "Epoch 28/30\n",
            "500/500 [==============================] - 3s 6ms/step - loss: 0.0115 - accuracy: 0.9929 - val_loss: 0.0116 - val_accuracy: 0.9920\n",
            "Epoch 29/30\n",
            "500/500 [==============================] - 4s 7ms/step - loss: 0.0107 - accuracy: 0.9924 - val_loss: 0.0110 - val_accuracy: 0.9925\n",
            "Epoch 30/30\n",
            "500/500 [==============================] - 3s 6ms/step - loss: 0.0151 - accuracy: 0.9912 - val_loss: 0.0119 - val_accuracy: 0.9918\n"
          ]
        },
        {
          "output_type": "execute_result",
          "data": {
            "text/plain": [
              "<keras.src.callbacks.History at 0x7c7786039a50>"
            ]
          },
          "metadata": {},
          "execution_count": 29
        }
      ]
    },
    {
      "cell_type": "code",
      "source": [
        "# Evaluate the model\n",
        "test_loss, test_acc = model.evaluate(X_test, y_test)\n",
        "print('Test accuracy:', test_acc)\n"
      ],
      "metadata": {
        "colab": {
          "base_uri": "https://localhost:8080/"
        },
        "id": "HZjmMa6fAARG",
        "outputId": "cf6f220c-675a-4057-e5f8-b4e4d3a4f8b5"
      },
      "execution_count": null,
      "outputs": [
        {
          "output_type": "stream",
          "name": "stdout",
          "text": [
            "125/125 [==============================] - 1s 3ms/step - loss: 0.0119 - accuracy: 0.9918\n",
            "Test accuracy: 0.9917500019073486\n"
          ]
        }
      ]
    },
    {
      "cell_type": "code",
      "source": [
        "# Function to make a prediction on a single image\n",
        "def make_prediction(image_path):\n",
        "    image = cv2.imread(image_path)\n",
        "    image = cv2.resize(image, (64, 64))\n",
        "    image = np.expand_dims(image, axis=0) / 255.0\n",
        "\n",
        "    prediction = model.predict(image)\n",
        "    predicted_class_index = np.argmax(prediction)\n",
        "\n",
        "    # Find the gesture name corresponding to the predicted index\n",
        "    predicted_gesture_name = [gesture for gesture,idx in gesture_map.items() if idx == predicted_class_index][0]\n",
        "\n",
        "    return predicted_gesture_name"
      ],
      "metadata": {
        "id": "xT1H9YSJBewb"
      },
      "execution_count": null,
      "outputs": []
    },
    {
      "cell_type": "code",
      "source": [
        "model.save('HGR_model.keras')  # Save the entire model including architecture and weights\n",
        "\n"
      ],
      "metadata": {
        "id": "pMp5Jm4nEil3"
      },
      "execution_count": null,
      "outputs": []
    },
    {
      "cell_type": "code",
      "source": [],
      "metadata": {
        "id": "n43e-GRemCH2"
      },
      "execution_count": null,
      "outputs": []
    },
    {
      "cell_type": "code",
      "source": [
        "from keras.models import load_model\n",
        "\n",
        "# Load the trained model from file\n",
        "model = load_model('/content/HGR_model.keras')\n",
        "\n",
        "# Now you can use 'model' to make predictions\n"
      ],
      "metadata": {
        "id": "h_pzUQK7EisY"
      },
      "execution_count": null,
      "outputs": []
    },
    {
      "cell_type": "code",
      "source": [
        "# Define your gesture mapping dictionary\n",
        "# This should match the mapping used during training\n",
        "gesture_map = {\n",
        "    'palm': 0,\n",
        "    'thumb': 1,\n",
        "    'index': 2,\n",
        "    'fist':3,\n",
        "}"
      ],
      "metadata": {
        "id": "1FlYI77hEi2N"
      },
      "execution_count": null,
      "outputs": []
    },
    {
      "cell_type": "code",
      "source": [
        "import matplotlib.pyplot as plt\n",
        "\n",
        "def predict_and_display(model, test_image, gesture_map):\n",
        "    # Display the test image\n",
        "    plt.imshow(cv2.cvtColor(test_image, cv2.COLOR_BGR2RGB))\n",
        "    plt.show()\n",
        "\n",
        "    # Preprocess the image as you did for training before making a prediction\n",
        "    processed_image = preprocess_image(test_image)  # Replace with your preprocessing function\n",
        "\n",
        "    # Get prediction - model.predict_classes is deprecated, so use np.argmax(model.predict(...), axis=-1)\n",
        "    prediction = np.argmax(model.predict(processed_image.reshape(1, 64, 64, 3)), axis=-1)[0]\n",
        "\n",
        "    # Find the corresponding gesture name using the gesture_map\n",
        "    gesture_name = [name for name, index in gesture_map.items() if index == prediction][0]\n",
        "\n",
        "    print(f\"Predicted gesture: {gesture_name}\")\n"
      ],
      "metadata": {
        "id": "n81pohobEjAM"
      },
      "execution_count": null,
      "outputs": []
    },
    {
      "cell_type": "code",
      "source": [
        "# Helper function to preprocess the image (you'll need to define this based on your model's requirements)\n",
        "def preprocess_image(image):\n",
        "    # Example: Resize image to 64x64 pixels and normalize pixel values to [0,1]\n",
        "    image = cv2.resize(image, (64, 64))\n",
        "    image = image / 255.0\n",
        "    return image\n"
      ],
      "metadata": {
        "id": "ZEHIaEikFru7"
      },
      "execution_count": null,
      "outputs": []
    },
    {
      "cell_type": "code",
      "source": [
        "# Example usage:\n",
        "# Load and preprocess your test image here as per your model's requirements\n",
        "test_image = cv2.imread('/content/leapGestRecog/00/01_palm/frame_00_01_0001.png')\n",
        "predict_and_display(model, test_image, gesture_map)"
      ],
      "metadata": {
        "colab": {
          "base_uri": "https://localhost:8080/",
          "height": 286
        },
        "id": "wfhZrsqPBqZ3",
        "outputId": "40fba1d1-fd73-4ad5-aa1e-d0c0c70221bd"
      },
      "execution_count": null,
      "outputs": [
        {
          "output_type": "display_data",
          "data": {
            "text/plain": [
              "<Figure size 640x480 with 1 Axes>"
            ],
            "image/png": "[encoded data removed]"
          },
          "metadata": {}
        },
        {
          "output_type": "stream",
          "name": "stdout",
          "text": [
            "1/1 [==============================] - 0s 30ms/step\n",
            "Predicted gesture: palm\n"
          ]
        }
      ]
    },
    {
      "cell_type": "code",
      "source": [],
      "metadata": {
        "id": "uDIZdZlWB86S",
        "collapsed": true
      },
      "execution_count": null,
      "outputs": []
    },
    {
      "cell_type": "code",
      "source": [],
      "metadata": {
        "id": "Ub6RnA6LCEmP"
      },
      "execution_count": null,
      "outputs": []
    },
    {
      "cell_type": "code",
      "source": [],
      "metadata": {
        "id": "Ijz9Cf34P060"
      },
      "execution_count": null,
      "outputs": []
    },
    {
      "cell_type": "code",
      "source": [],
      "metadata": {
        "id": "5drIVOBtP37a"
      },
      "execution_count": null,
      "outputs": []
    },
    {
      "cell_type": "code",
      "source": [],
      "metadata": {
        "id": "ILQuiKeHhs1P"
      },
      "execution_count": null,
      "outputs": []
    },
    {
      "cell_type": "code",
      "source": [],
      "metadata": {
        "id": "GSgnrIzsh8-9"
      },
      "execution_count": null,
      "outputs": []
    },
    {
      "cell_type": "code",
      "source": [],
      "metadata": {
        "id": "IgmVcEYkRjeD"
      },
      "execution_count": null,
      "outputs": []
    },
    {
      "cell_type": "code",
      "source": [],
      "metadata": {
        "id": "Qp72IHtzRlxu"
      },
      "execution_count": null,
      "outputs": []
    },
    {
      "cell_type": "code",
      "source": [],
      "metadata": {
        "id": "DEFe_I7GplZN"
      },
      "execution_count": null,
      "outputs": []
    },
    {
      "cell_type": "code",
      "source": [],
      "metadata": {
        "id": "yYOZkO9MRnrI"
      },
      "execution_count": null,
      "outputs": []
    },
    {
      "cell_type": "code",
      "source": [],
      "metadata": {
        "id": "SEjVDHwQRux6"
      },
      "execution_count": null,
      "outputs": []
    }
  ]
}